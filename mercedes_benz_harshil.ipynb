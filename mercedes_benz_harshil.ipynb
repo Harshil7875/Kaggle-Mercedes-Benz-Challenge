{
 "cells": [
  {
   "cell_type": "markdown",
   "id": "3b70142f",
   "metadata": {},
   "source": [
    "#### Importing libraries"
   ]
  },
  {
   "cell_type": "code",
   "execution_count": 4,
   "id": "98810e93",
   "metadata": {
    "_cell_guid": "b1076dfc-b9ad-4769-8c92-a6c4dae69d19",
    "_uuid": "8f2839f25d086af736a60e9eeb907d3b93b6e0e5",
    "execution": {
     "iopub.execute_input": "2021-10-30T05:54:35.014547Z",
     "iopub.status.busy": "2021-10-30T05:54:35.013830Z",
     "iopub.status.idle": "2021-10-30T05:54:35.024044Z",
     "shell.execute_reply": "2021-10-30T05:54:35.023030Z",
     "shell.execute_reply.started": "2021-10-29T12:20:06.608222Z"
    },
    "papermill": {
     "duration": 0.04176,
     "end_time": "2021-10-30T05:54:35.024272",
     "exception": false,
     "start_time": "2021-10-30T05:54:34.982512",
     "status": "completed"
    },
    "tags": []
   },
   "outputs": [],
   "source": [
    "import numpy as np \n",
    "import pandas as pd"
   ]
  },
  {
   "cell_type": "code",
   "execution_count": 5,
   "id": "d01431e8",
   "metadata": {
    "execution": {
     "iopub.execute_input": "2021-10-30T05:54:35.064082Z",
     "iopub.status.busy": "2021-10-30T05:54:35.063261Z",
     "iopub.status.idle": "2021-10-30T05:54:35.305547Z",
     "shell.execute_reply": "2021-10-30T05:54:35.304970Z",
     "shell.execute_reply.started": "2021-10-29T12:20:06.622452Z"
    },
    "papermill": {
     "duration": 0.262436,
     "end_time": "2021-10-30T05:54:35.305686",
     "exception": false,
     "start_time": "2021-10-30T05:54:35.043250",
     "status": "completed"
    },
    "tags": []
   },
   "outputs": [
    {
     "name": "stdout",
     "output_type": "stream",
     "text": [
      "(4209, 2)\n",
      "<class 'pandas.core.frame.DataFrame'>\n",
      "RangeIndex: 4209 entries, 0 to 4208\n",
      "Data columns (total 2 columns):\n",
      " #   Column  Non-Null Count  Dtype  \n",
      "---  ------  --------------  -----  \n",
      " 0   ID      4209 non-null   int64  \n",
      " 1   y       4209 non-null   float64\n",
      "dtypes: float64(1), int64(1)\n",
      "memory usage: 65.9 KB\n",
      "None\n"
     ]
    },
    {
     "data": {
      "text/html": [
       "<div>\n",
       "<style scoped>\n",
       "    .dataframe tbody tr th:only-of-type {\n",
       "        vertical-align: middle;\n",
       "    }\n",
       "\n",
       "    .dataframe tbody tr th {\n",
       "        vertical-align: top;\n",
       "    }\n",
       "\n",
       "    .dataframe thead th {\n",
       "        text-align: right;\n",
       "    }\n",
       "</style>\n",
       "<table border=\"1\" class=\"dataframe\">\n",
       "  <thead>\n",
       "    <tr style=\"text-align: right;\">\n",
       "      <th></th>\n",
       "      <th>ID</th>\n",
       "      <th>y</th>\n",
       "    </tr>\n",
       "  </thead>\n",
       "  <tbody>\n",
       "    <tr>\n",
       "      <th>0</th>\n",
       "      <td>1</td>\n",
       "      <td>81.76701</td>\n",
       "    </tr>\n",
       "    <tr>\n",
       "      <th>1</th>\n",
       "      <td>2</td>\n",
       "      <td>93.42265</td>\n",
       "    </tr>\n",
       "    <tr>\n",
       "      <th>2</th>\n",
       "      <td>3</td>\n",
       "      <td>81.92086</td>\n",
       "    </tr>\n",
       "    <tr>\n",
       "      <th>3</th>\n",
       "      <td>4</td>\n",
       "      <td>79.08047</td>\n",
       "    </tr>\n",
       "    <tr>\n",
       "      <th>4</th>\n",
       "      <td>5</td>\n",
       "      <td>101.40711</td>\n",
       "    </tr>\n",
       "  </tbody>\n",
       "</table>\n",
       "</div>"
      ],
      "text/plain": [
       "   ID          y\n",
       "0   1   81.76701\n",
       "1   2   93.42265\n",
       "2   3   81.92086\n",
       "3   4   79.08047\n",
       "4   5  101.40711"
      ]
     },
     "execution_count": 5,
     "metadata": {},
     "output_type": "execute_result"
    }
   ],
   "source": [
    "df = pd.read_csv('benz_data.csv')\n",
    "print(df.shape)\n",
    "print(df.info())\n",
    "df.head()"
   ]
  },
  {
   "cell_type": "markdown",
   "id": "1275c0bb",
   "metadata": {
    "papermill": {
     "duration": 0.015572,
     "end_time": "2021-10-30T05:54:35.337667",
     "exception": false,
     "start_time": "2021-10-30T05:54:35.322095",
     "status": "completed"
    },
    "tags": []
   },
   "source": [
    "#### Preprocessing"
   ]
  },
  {
   "cell_type": "code",
   "execution_count": 6,
   "id": "b2560416",
   "metadata": {
    "execution": {
     "iopub.execute_input": "2021-10-30T05:54:35.375698Z",
     "iopub.status.busy": "2021-10-30T05:54:35.374856Z",
     "iopub.status.idle": "2021-10-30T05:54:36.428574Z",
     "shell.execute_reply": "2021-10-30T05:54:36.427987Z",
     "shell.execute_reply.started": "2021-10-29T12:20:06.845735Z"
    },
    "papermill": {
     "duration": 1.075014,
     "end_time": "2021-10-30T05:54:36.428731",
     "exception": false,
     "start_time": "2021-10-30T05:54:35.353717",
     "status": "completed"
    },
    "tags": []
   },
   "outputs": [
    {
     "name": "stdout",
     "output_type": "stream",
     "text": [
      "(3367, 2)\n",
      "(842, 2)\n"
     ]
    }
   ],
   "source": [
    "from sklearn.model_selection import train_test_split\n",
    "\n",
    "train_set, valid_set = train_test_split(df, test_size=0.2, random_state=42)\n",
    "\n",
    "print(train_set.shape)\n",
    "print(valid_set.shape)"
   ]
  },
  {
   "cell_type": "code",
   "execution_count": 7,
   "id": "304d5b5f",
   "metadata": {
    "execution": {
     "iopub.execute_input": "2021-10-30T05:54:36.471162Z",
     "iopub.status.busy": "2021-10-30T05:54:36.464546Z",
     "iopub.status.idle": "2021-10-30T05:54:36.493966Z",
     "shell.execute_reply": "2021-10-30T05:54:36.494526Z",
     "shell.execute_reply.started": "2021-10-29T12:20:06.866905Z"
    },
    "papermill": {
     "duration": 0.049207,
     "end_time": "2021-10-30T05:54:36.494758",
     "exception": false,
     "start_time": "2021-10-30T05:54:36.445551",
     "status": "completed"
    },
    "tags": []
   },
   "outputs": [],
   "source": [
    "X_train_cat = train_set.select_dtypes(include='object').copy()\n",
    "X_train_num = train_set.select_dtypes(include='int64').copy()\n",
    "X_train_num.drop('ID', axis=1, inplace=True)\n",
    "\n",
    "X_valid_cat = valid_set.select_dtypes(include='object').copy()\n",
    "X_valid_num = valid_set.select_dtypes(include='int64').copy()\n",
    "X_valid_num.drop('ID', axis=1, inplace=True)\n",
    "\n",
    "y_train = train_set['y'].values\n",
    "y_valid = valid_set['y'].values"
   ]
  },
  {
   "cell_type": "code",
   "execution_count": 8,
   "id": "b4086563",
   "metadata": {
    "execution": {
     "iopub.execute_input": "2021-10-30T05:54:36.540410Z",
     "iopub.status.busy": "2021-10-30T05:54:36.539473Z",
     "iopub.status.idle": "2021-10-30T05:54:42.380388Z",
     "shell.execute_reply": "2021-10-30T05:54:42.380880Z",
     "shell.execute_reply.started": "2021-10-29T12:20:06.904353Z"
    },
    "papermill": {
     "duration": 5.868326,
     "end_time": "2021-10-30T05:54:42.381093",
     "exception": false,
     "start_time": "2021-10-30T05:54:36.512767",
     "status": "completed"
    },
    "tags": []
   },
   "outputs": [],
   "source": [
    "import tensorflow as tf\n",
    "\n",
    "class OneHotEncodingLayer(tf.keras.layers.Layer):\n",
    "    def __init__(self, vocab, num_oov_buckets=1,  **kwargs):\n",
    "        super().__init__()\n",
    "        self.vocab = vocab\n",
    "        self.num_oov_buckets = num_oov_buckets\n",
    "        \n",
    "    def adapt(self, data):\n",
    "        indices = tf.range(len(self.vocab), dtype=tf.int64)\n",
    "        table_init = tf.lookup.KeyValueTensorInitializer(self.vocab, indices)\n",
    "        self.table = tf.lookup.StaticVocabularyTable(table_init, self.num_oov_buckets)\n",
    "        \n",
    "    def call(self, inputs):\n",
    "        cat_indices = self.table.lookup(inputs)\n",
    "        one_hot =  tf.one_hot(cat_indices, depth=len(self.vocab)+self.num_oov_buckets)\n",
    "        return tf.squeeze(one_hot, axis=1)\n",
    "    \n",
    "    def get_config(self):\n",
    "        base_config = super().get_config()\n",
    "        return {**base_config, \"vocab\":self.vocab, \"num_oov_buckets\":self.num_oov_buckets}"
   ]
  },
  {
   "cell_type": "markdown",
   "id": "8bcea18c",
   "metadata": {
    "papermill": {
     "duration": 0.016144,
     "end_time": "2021-10-30T05:54:42.414182",
     "exception": false,
     "start_time": "2021-10-30T05:54:42.398038",
     "status": "completed"
    },
    "tags": []
   },
   "source": [
    "#### keras Functional API"
   ]
  },
  {
   "cell_type": "code",
   "execution_count": null,
   "id": "2cc1fb19",
   "metadata": {
    "execution": {
     "iopub.execute_input": "2021-10-30T05:54:42.827131Z",
     "iopub.status.busy": "2021-10-30T05:54:42.822254Z",
     "iopub.status.idle": "2021-10-30T05:54:42.829419Z",
     "shell.execute_reply": "2021-10-30T05:54:42.829922Z",
     "shell.execute_reply.started": "2021-10-29T12:20:07.106946Z"
    },
    "papermill": {
     "duration": 0.027617,
     "end_time": "2021-10-30T05:54:42.830123",
     "exception": false,
     "start_time": "2021-10-30T05:54:42.802506",
     "status": "completed"
    },
    "tags": []
   },
   "outputs": [],
   "source": [
    "K = tf.keras.backend\n",
    "\n",
    "class ExponentialLearningRate(tf.keras.callbacks.Callback):\n",
    "    def __init__(self, factor):\n",
    "        self.factor = factor\n",
    "        self.rates = []\n",
    "        self.losses = []\n",
    "    def on_batch_end(self, batch, logs):\n",
    "        self.rates.append(K.get_value(self.model.optimizer.lr))\n",
    "        self.losses.append(logs[\"loss\"])\n",
    "        K.set_value(self.model.optimizer.lr, self.model.optimizer.lr * self.factor)"
   ]
  },
  {
   "cell_type": "code",
   "execution_count": null,
   "id": "069aad26",
   "metadata": {},
   "outputs": [],
   "source": [
    "# categorical features one hot encoding\n",
    "one_hot_encoders = [OneHotEncodingLayer(vocab=np.unique(data.values).tolist()) for col, data in X_train_cat.iteritems()]\n",
    "\n",
    "for encoder, (col, data) in zip(one_hot_encoders, X_train_cat.iteritems()):\n",
    "    encoder.adapt(data.values)\n",
    "    \n",
    "cat_inputs = [tf.keras.Input(shape=(1,), dtype=tf.string) for _ in X_train_cat.iteritems()]\n",
    "encoder_outs = [encoder(cat_input) for encoder, cat_input in zip(one_hot_encoders, cat_inputs)]\n",
    "\n",
    "# concatenate categorical features\n",
    "concat = tf.keras.layers.concatenate(encoder_outs, axis=-1)\n",
    "\n",
    "# numerical features are binary\n",
    "num_inputs = tf.keras.Input(shape=(X_train_num.shape[1]),)\n",
    "\n",
    "# concatenate all features\n",
    "concat_all = tf.keras.layers.concatenate([concat, num_inputs], axis=-1)\n",
    "\n",
    "# build DNN\n",
    "dense1 = tf.keras.layers.Dense(300, activation='relu')(concat_all)\n",
    "dense2 = tf.keras.layers.Dense(200, activation='relu')(dense1)\n",
    "dense3 = tf.keras.layers.Dense(100, activation='relu')(dense2)\n",
    "outputs = tf.keras.layers.Dense(1)(dense3)\n",
    "\n",
    "model = tf.keras.models.Model(inputs=[cat_inputs, num_inputs], outputs=outputs)"
   ]
  },
  {
   "cell_type": "code",
   "execution_count": null,
   "id": "87318f8b",
   "metadata": {
    "execution": {
     "iopub.execute_input": "2021-10-30T05:54:42.882818Z",
     "iopub.status.busy": "2021-10-30T05:54:42.882104Z",
     "iopub.status.idle": "2021-10-30T05:54:51.480948Z",
     "shell.execute_reply": "2021-10-30T05:54:51.481777Z",
     "shell.execute_reply.started": "2021-10-29T12:20:07.117064Z"
    },
    "papermill": {
     "duration": 8.634325,
     "end_time": "2021-10-30T05:54:51.481970",
     "exception": false,
     "start_time": "2021-10-30T05:54:42.847645",
     "status": "completed"
    },
    "tags": []
   },
   "outputs": [
    {
     "name": "stderr",
     "output_type": "stream",
     "text": [
      "2021-10-30 05:54:42.991495: I tensorflow/compiler/mlir/mlir_graph_optimization_pass.cc:185] None of the MLIR Optimization Passes are enabled (registered 2)\n"
     ]
    },
    {
     "name": "stdout",
     "output_type": "stream",
     "text": [
      "Epoch 1/10\n",
      "106/106 [==============================] - 2s 10ms/step - loss: 87.8695 - mae: 88.3695 - val_loss: 27.5114 - val_mae: 28.0111\n",
      "Epoch 2/10\n",
      "106/106 [==============================] - 1s 7ms/step - loss: 9.9769 - mae: 10.4629 - val_loss: 6.2893 - val_mae: 6.7710\n",
      "Epoch 3/10\n",
      "106/106 [==============================] - 1s 7ms/step - loss: 5.4872 - mae: 5.9644 - val_loss: 5.0958 - val_mae: 5.5791\n",
      "Epoch 4/10\n",
      "106/106 [==============================] - 1s 7ms/step - loss: 4.9235 - mae: 5.3960 - val_loss: 5.1720 - val_mae: 5.6417\n",
      "Epoch 5/10\n",
      "106/106 [==============================] - 1s 6ms/step - loss: 4.9090 - mae: 5.3821 - val_loss: 5.0350 - val_mae: 5.5102\n",
      "Epoch 6/10\n",
      "106/106 [==============================] - 1s 6ms/step - loss: 5.3964 - mae: 5.8743 - val_loss: 6.1308 - val_mae: 6.6191\n",
      "Epoch 7/10\n",
      "106/106 [==============================] - 1s 6ms/step - loss: 5.7761 - mae: 6.2555 - val_loss: 5.2250 - val_mae: 5.6957\n",
      "Epoch 8/10\n",
      "106/106 [==============================] - 1s 7ms/step - loss: 7.4286 - mae: 7.9126 - val_loss: 13.6898 - val_mae: 14.1893\n",
      "Epoch 9/10\n",
      "106/106 [==============================] - 1s 6ms/step - loss: 8.5376 - mae: 9.0256 - val_loss: 6.1528 - val_mae: 6.6326\n",
      "Epoch 10/10\n",
      "106/106 [==============================] - 1s 6ms/step - loss: 8.6123 - mae: 9.0996 - val_loss: 6.4488 - val_mae: 6.9304\n"
     ]
    },
    {
     "data": {
      "text/plain": [
       "<keras.callbacks.History at 0x7f6bc2a6b650>"
      ]
     },
     "execution_count": 8,
     "metadata": {},
     "output_type": "execute_result"
    }
   ],
   "source": [
    "tf.keras.backend.clear_session()\n",
    "tf.random.set_seed(42)\n",
    "np.random.seed(42)\n",
    "\n",
    "\n",
    "train_cat_in = [data.values for col, data in X_train_cat.iteritems()]\n",
    "valid_cat_in = [data.values for col, data in X_valid_cat.iteritems()]\n",
    "\n",
    "expon_lr =  ExponentialLearningRate(factor=1.005)\n",
    "\n",
    "model.compile(loss=tf.keras.losses.Huber(), optimizer=tf.keras.optimizers.Adam(learning_rate=1e-4), metrics=['mae'])\n",
    "\n",
    "model.fit([train_cat_in, X_train_num.values], y_train, epochs=10, validation_data=((valid_cat_in, X_valid_num.values), y_valid), callbacks=[expon_lr])"
   ]
  },
  {
   "cell_type": "code",
   "execution_count": null,
   "id": "46482cfc",
   "metadata": {
    "execution": {
     "iopub.execute_input": "2021-10-30T05:54:51.606118Z",
     "iopub.status.busy": "2021-10-30T05:54:51.605136Z",
     "iopub.status.idle": "2021-10-30T05:54:52.193946Z",
     "shell.execute_reply": "2021-10-30T05:54:52.193323Z",
     "shell.execute_reply.started": "2021-10-29T12:20:15.38757Z"
    },
    "papermill": {
     "duration": 0.649257,
     "end_time": "2021-10-30T05:54:52.194113",
     "exception": false,
     "start_time": "2021-10-30T05:54:51.544856",
     "status": "completed"
    },
    "tags": []
   },
   "outputs": [
    {
     "data": {
      "image/png": "[encoded data removed]",
      "text/plain": [
       "<Figure size 720x432 with 1 Axes>"
      ]
     },
     "metadata": {
      "needs_background": "light"
     },
     "output_type": "display_data"
    }
   ],
   "source": [
    "import matplotlib.pyplot as plt\n",
    "\n",
    "plt.figure(figsize=(10, 6))\n",
    "plt.plot(expon_lr.rates, expon_lr.losses)\n",
    "plt.gca().set_xscale('log')\n",
    "plt.hlines(min(expon_lr.losses), min(expon_lr.rates), max(expon_lr.rates))\n",
    "plt.axis([min(expon_lr.rates), max(expon_lr.rates), 0, expon_lr.losses[0]])\n",
    "plt.grid()\n",
    "plt.title('Exponential Sceduling (per batch)')\n",
    "plt.xlabel(\"Learning rate\")\n",
    "plt.ylabel(\"Loss\")\n",
    "plt.show()"
   ]
  },
  {
   "cell_type": "code",
   "execution_count": null,
   "id": "f53854f3",
   "metadata": {
    "execution": {
     "iopub.execute_input": "2021-10-30T05:54:52.316374Z",
     "iopub.status.busy": "2021-10-30T05:54:52.315710Z",
     "iopub.status.idle": "2021-10-30T05:55:05.873555Z",
     "shell.execute_reply": "2021-10-30T05:55:05.872523Z",
     "shell.execute_reply.started": "2021-10-29T12:20:16.044456Z"
    },
    "papermill": {
     "duration": 13.622384,
     "end_time": "2021-10-30T05:55:05.873774",
     "exception": false,
     "start_time": "2021-10-30T05:54:52.251390",
     "status": "completed"
    },
    "tags": []
   },
   "outputs": [
    {
     "name": "stdout",
     "output_type": "stream",
     "text": [
      "Epoch 1/100\n",
      "106/106 [==============================] - 2s 10ms/step - loss: 4.8811 - mae: 5.3558 - val_loss: 4.8701 - val_mae: 5.3440\n",
      "Epoch 2/100\n",
      "106/106 [==============================] - 1s 6ms/step - loss: 4.4818 - mae: 4.9513 - val_loss: 4.7687 - val_mae: 5.2465\n",
      "Epoch 3/100\n",
      "106/106 [==============================] - 1s 6ms/step - loss: 4.4240 - mae: 4.8948 - val_loss: 4.7421 - val_mae: 5.2204\n",
      "Epoch 4/100\n",
      "106/106 [==============================] - 1s 6ms/step - loss: 4.4572 - mae: 4.9263 - val_loss: 4.8162 - val_mae: 5.2846\n",
      "Epoch 5/100\n",
      "106/106 [==============================] - 1s 9ms/step - loss: 4.3025 - mae: 4.7711 - val_loss: 4.7061 - val_mae: 5.1763\n",
      "Epoch 6/100\n",
      "106/106 [==============================] - 1s 7ms/step - loss: 4.3019 - mae: 4.7683 - val_loss: 5.1779 - val_mae: 5.6582\n",
      "Epoch 7/100\n",
      "106/106 [==============================] - 1s 6ms/step - loss: 4.2228 - mae: 4.6904 - val_loss: 4.8012 - val_mae: 5.2772\n",
      "Epoch 8/100\n",
      "106/106 [==============================] - 1s 6ms/step - loss: 4.2588 - mae: 4.7253 - val_loss: 4.6946 - val_mae: 5.1658\n",
      "Epoch 9/100\n",
      "106/106 [==============================] - 1s 6ms/step - loss: 4.0895 - mae: 4.5528 - val_loss: 4.8581 - val_mae: 5.3356\n",
      "Epoch 10/100\n",
      "106/106 [==============================] - 1s 7ms/step - loss: 4.1326 - mae: 4.5960 - val_loss: 4.7605 - val_mae: 5.2305\n",
      "Epoch 11/100\n",
      "106/106 [==============================] - 1s 6ms/step - loss: 3.9684 - mae: 4.4287 - val_loss: 4.7722 - val_mae: 5.2440\n",
      "Epoch 12/100\n",
      "106/106 [==============================] - 1s 6ms/step - loss: 3.9279 - mae: 4.3906 - val_loss: 4.9529 - val_mae: 5.4313\n",
      "Epoch 13/100\n",
      "106/106 [==============================] - 1s 6ms/step - loss: 3.9469 - mae: 4.4053 - val_loss: 4.7633 - val_mae: 5.2369\n",
      "Epoch 14/100\n",
      "106/106 [==============================] - 1s 6ms/step - loss: 3.9730 - mae: 4.4373 - val_loss: 4.8259 - val_mae: 5.2933\n",
      "Epoch 15/100\n",
      "106/106 [==============================] - 1s 6ms/step - loss: 3.8043 - mae: 4.2613 - val_loss: 5.0803 - val_mae: 5.5467\n",
      "Epoch 16/100\n",
      "106/106 [==============================] - 1s 6ms/step - loss: 3.7565 - mae: 4.2145 - val_loss: 4.9024 - val_mae: 5.3745\n",
      "Epoch 17/100\n",
      "106/106 [==============================] - 1s 6ms/step - loss: 3.6741 - mae: 4.1323 - val_loss: 4.8668 - val_mae: 5.3392\n",
      "Epoch 18/100\n",
      "106/106 [==============================] - 1s 6ms/step - loss: 3.6479 - mae: 4.1027 - val_loss: 5.3668 - val_mae: 5.8351\n"
     ]
    },
    {
     "data": {
      "text/plain": [
       "<keras.callbacks.History at 0x7f6baad06ed0>"
      ]
     },
     "execution_count": 10,
     "metadata": {},
     "output_type": "execute_result"
    }
   ],
   "source": [
    "tf.keras.backend.clear_session()\n",
    "tf.random.set_seed(42)\n",
    "np.random.seed(42)\n",
    "\n",
    "early_stopping_cb = tf.keras.callbacks.EarlyStopping(patience=10)\n",
    "\n",
    "model.compile(loss=tf.keras.losses.Huber(), optimizer=tf.keras.optimizers.Adam(learning_rate=1e-3), metrics=['mae'])\n",
    "\n",
    "model.fit([train_cat_in, X_train_num.values], y_train, epochs=100, \n",
    "          validation_data=((valid_cat_in, X_valid_num.values), y_valid), callbacks=[early_stopping_cb])"
   ]
  },
  {
   "cell_type": "code",
   "execution_count": null,
   "id": "f8f07fc3",
   "metadata": {
    "execution": {
     "iopub.execute_input": "2021-10-30T05:55:06.132079Z",
     "iopub.status.busy": "2021-10-30T05:55:06.130879Z",
     "iopub.status.idle": "2021-10-30T05:55:06.322934Z",
     "shell.execute_reply": "2021-10-30T05:55:06.322279Z",
     "shell.execute_reply.started": "2021-10-29T12:20:28.976412Z"
    },
    "papermill": {
     "duration": 0.322277,
     "end_time": "2021-10-30T05:55:06.323110",
     "exception": false,
     "start_time": "2021-10-30T05:55:06.000833",
     "status": "completed"
    },
    "tags": []
   },
   "outputs": [
    {
     "name": "stdout",
     "output_type": "stream",
     "text": [
      "27/27 [==============================] - 0s 3ms/step - loss: 5.3668 - mae: 5.8351\n"
     ]
    },
    {
     "data": {
      "text/plain": [
       "[5.3668060302734375, 5.835101127624512]"
      ]
     },
     "execution_count": 11,
     "metadata": {},
     "output_type": "execute_result"
    }
   ],
   "source": [
    "model.evaluate((valid_cat_in, X_valid_num.values), y_valid)"
   ]
  },
  {
   "cell_type": "markdown",
   "id": "1b32ec2f",
   "metadata": {
    "papermill": {
     "duration": 0.125661,
     "end_time": "2021-10-30T05:55:06.574555",
     "exception": false,
     "start_time": "2021-10-30T05:55:06.448894",
     "status": "completed"
    },
    "tags": []
   },
   "source": [
    "#### Making Predictions"
   ]
  },
  {
   "cell_type": "code",
   "execution_count": null,
   "id": "28497335",
   "metadata": {
    "execution": {
     "iopub.execute_input": "2021-10-30T05:55:06.895282Z",
     "iopub.status.busy": "2021-10-30T05:55:06.894566Z",
     "iopub.status.idle": "2021-10-30T05:55:07.081287Z",
     "shell.execute_reply": "2021-10-30T05:55:07.081787Z",
     "shell.execute_reply.started": "2021-10-29T12:20:37.582625Z"
    },
    "papermill": {
     "duration": 0.382536,
     "end_time": "2021-10-30T05:55:07.081960",
     "exception": false,
     "start_time": "2021-10-30T05:55:06.699424",
     "status": "completed"
    },
    "tags": []
   },
   "outputs": [
    {
     "data": {
      "text/html": [
       "<div>\n",
       "<style scoped>\n",
       "    .dataframe tbody tr th:only-of-type {\n",
       "        vertical-align: middle;\n",
       "    }\n",
       "\n",
       "    .dataframe tbody tr th {\n",
       "        vertical-align: top;\n",
       "    }\n",
       "\n",
       "    .dataframe thead th {\n",
       "        text-align: right;\n",
       "    }\n",
       "</style>\n",
       "<table border=\"1\" class=\"dataframe\">\n",
       "  <thead>\n",
       "    <tr style=\"text-align: right;\">\n",
       "      <th></th>\n",
       "      <th>ID</th>\n",
       "      <th>X0</th>\n",
       "      <th>X1</th>\n",
       "      <th>X2</th>\n",
       "      <th>X3</th>\n",
       "      <th>X4</th>\n",
       "      <th>X5</th>\n",
       "      <th>X6</th>\n",
       "      <th>X8</th>\n",
       "      <th>X10</th>\n",
       "      <th>...</th>\n",
       "      <th>X375</th>\n",
       "      <th>X376</th>\n",
       "      <th>X377</th>\n",
       "      <th>X378</th>\n",
       "      <th>X379</th>\n",
       "      <th>X380</th>\n",
       "      <th>X382</th>\n",
       "      <th>X383</th>\n",
       "      <th>X384</th>\n",
       "      <th>X385</th>\n",
       "    </tr>\n",
       "  </thead>\n",
       "  <tbody>\n",
       "    <tr>\n",
       "      <th>0</th>\n",
       "      <td>1</td>\n",
       "      <td>az</td>\n",
       "      <td>v</td>\n",
       "      <td>n</td>\n",
       "      <td>f</td>\n",
       "      <td>d</td>\n",
       "      <td>t</td>\n",
       "      <td>a</td>\n",
       "      <td>w</td>\n",
       "      <td>0</td>\n",
       "      <td>...</td>\n",
       "      <td>0</td>\n",
       "      <td>0</td>\n",
       "      <td>0</td>\n",
       "      <td>1</td>\n",
       "      <td>0</td>\n",
       "      <td>0</td>\n",
       "      <td>0</td>\n",
       "      <td>0</td>\n",
       "      <td>0</td>\n",
       "      <td>0</td>\n",
       "    </tr>\n",
       "    <tr>\n",
       "      <th>1</th>\n",
       "      <td>2</td>\n",
       "      <td>t</td>\n",
       "      <td>b</td>\n",
       "      <td>ai</td>\n",
       "      <td>a</td>\n",
       "      <td>d</td>\n",
       "      <td>b</td>\n",
       "      <td>g</td>\n",
       "      <td>y</td>\n",
       "      <td>0</td>\n",
       "      <td>...</td>\n",
       "      <td>0</td>\n",
       "      <td>0</td>\n",
       "      <td>1</td>\n",
       "      <td>0</td>\n",
       "      <td>0</td>\n",
       "      <td>0</td>\n",
       "      <td>0</td>\n",
       "      <td>0</td>\n",
       "      <td>0</td>\n",
       "      <td>0</td>\n",
       "    </tr>\n",
       "    <tr>\n",
       "      <th>2</th>\n",
       "      <td>3</td>\n",
       "      <td>az</td>\n",
       "      <td>v</td>\n",
       "      <td>as</td>\n",
       "      <td>f</td>\n",
       "      <td>d</td>\n",
       "      <td>a</td>\n",
       "      <td>j</td>\n",
       "      <td>j</td>\n",
       "      <td>0</td>\n",
       "      <td>...</td>\n",
       "      <td>0</td>\n",
       "      <td>0</td>\n",
       "      <td>0</td>\n",
       "      <td>1</td>\n",
       "      <td>0</td>\n",
       "      <td>0</td>\n",
       "      <td>0</td>\n",
       "      <td>0</td>\n",
       "      <td>0</td>\n",
       "      <td>0</td>\n",
       "    </tr>\n",
       "    <tr>\n",
       "      <th>3</th>\n",
       "      <td>4</td>\n",
       "      <td>az</td>\n",
       "      <td>l</td>\n",
       "      <td>n</td>\n",
       "      <td>f</td>\n",
       "      <td>d</td>\n",
       "      <td>z</td>\n",
       "      <td>l</td>\n",
       "      <td>n</td>\n",
       "      <td>0</td>\n",
       "      <td>...</td>\n",
       "      <td>0</td>\n",
       "      <td>0</td>\n",
       "      <td>0</td>\n",
       "      <td>1</td>\n",
       "      <td>0</td>\n",
       "      <td>0</td>\n",
       "      <td>0</td>\n",
       "      <td>0</td>\n",
       "      <td>0</td>\n",
       "      <td>0</td>\n",
       "    </tr>\n",
       "    <tr>\n",
       "      <th>4</th>\n",
       "      <td>5</td>\n",
       "      <td>w</td>\n",
       "      <td>s</td>\n",
       "      <td>as</td>\n",
       "      <td>c</td>\n",
       "      <td>d</td>\n",
       "      <td>y</td>\n",
       "      <td>i</td>\n",
       "      <td>m</td>\n",
       "      <td>0</td>\n",
       "      <td>...</td>\n",
       "      <td>1</td>\n",
       "      <td>0</td>\n",
       "      <td>0</td>\n",
       "      <td>0</td>\n",
       "      <td>0</td>\n",
       "      <td>0</td>\n",
       "      <td>0</td>\n",
       "      <td>0</td>\n",
       "      <td>0</td>\n",
       "      <td>0</td>\n",
       "    </tr>\n",
       "  </tbody>\n",
       "</table>\n",
       "<p>5 rows × 377 columns</p>\n",
       "</div>"
      ],
      "text/plain": [
       "   ID  X0 X1  X2 X3 X4 X5 X6 X8  X10  ...  X375  X376  X377  X378  X379  X380  \\\n",
       "0   1  az  v   n  f  d  t  a  w    0  ...     0     0     0     1     0     0   \n",
       "1   2   t  b  ai  a  d  b  g  y    0  ...     0     0     1     0     0     0   \n",
       "2   3  az  v  as  f  d  a  j  j    0  ...     0     0     0     1     0     0   \n",
       "3   4  az  l   n  f  d  z  l  n    0  ...     0     0     0     1     0     0   \n",
       "4   5   w  s  as  c  d  y  i  m    0  ...     1     0     0     0     0     0   \n",
       "\n",
       "   X382  X383  X384  X385  \n",
       "0     0     0     0     0  \n",
       "1     0     0     0     0  \n",
       "2     0     0     0     0  \n",
       "3     0     0     0     0  \n",
       "4     0     0     0     0  \n",
       "\n",
       "[5 rows x 377 columns]"
      ]
     },
     "execution_count": 12,
     "metadata": {},
     "output_type": "execute_result"
    }
   ],
   "source": [
    "test = pd.read_csv(\"/kaggle/input/mercedes-benz-greener-manufacturing/test.csv.zip\", compression='zip')\n",
    "test.head()"
   ]
  },
  {
   "cell_type": "code",
   "execution_count": null,
   "id": "4cb10aa4",
   "metadata": {
    "execution": {
     "iopub.execute_input": "2021-10-30T05:55:07.342162Z",
     "iopub.status.busy": "2021-10-30T05:55:07.341424Z",
     "iopub.status.idle": "2021-10-30T05:55:08.050746Z",
     "shell.execute_reply": "2021-10-30T05:55:08.051314Z",
     "shell.execute_reply.started": "2021-10-29T12:20:37.773678Z"
    },
    "papermill": {
     "duration": 0.840884,
     "end_time": "2021-10-30T05:55:08.051500",
     "exception": false,
     "start_time": "2021-10-30T05:55:07.210616",
     "status": "completed"
    },
    "tags": []
   },
   "outputs": [
    {
     "data": {
      "text/plain": [
       "array([ 81.76701,  93.42265,  81.92086, ...,  87.70076, 103.37574,\n",
       "        86.17945], dtype=float32)"
      ]
     },
     "execution_count": 13,
     "metadata": {},
     "output_type": "execute_result"
    }
   ],
   "source": [
    "X_test_cat = test.select_dtypes(include='object').copy()\n",
    "X_test_num = test.select_dtypes(include='int64').copy()\n",
    "X_test_num.drop('ID', axis=1, inplace=True)\n",
    "\n",
    "test_cat_in = [data.values for col, data in X_test_cat.iteritems()]\n",
    "\n",
    "test['y'] = model.predict((test_cat_in, X_test_num.values))\n",
    "test['y'].values"
   ]
  },
  {
   "cell_type": "code",
   "execution_count": null,
   "id": "26743ec4",
   "metadata": {
    "execution": {
     "iopub.execute_input": "2021-10-30T05:55:08.318432Z",
     "iopub.status.busy": "2021-10-30T05:55:08.317490Z",
     "iopub.status.idle": "2021-10-30T05:55:08.320733Z",
     "shell.execute_reply": "2021-10-30T05:55:08.321377Z",
     "shell.execute_reply.started": "2021-10-29T12:20:38.442372Z"
    },
    "papermill": {
     "duration": 0.141909,
     "end_time": "2021-10-30T05:55:08.321554",
     "exception": false,
     "start_time": "2021-10-30T05:55:08.179645",
     "status": "completed"
    },
    "tags": []
   },
   "outputs": [
    {
     "data": {
      "text/html": [
       "<div>\n",
       "<style scoped>\n",
       "    .dataframe tbody tr th:only-of-type {\n",
       "        vertical-align: middle;\n",
       "    }\n",
       "\n",
       "    .dataframe tbody tr th {\n",
       "        vertical-align: top;\n",
       "    }\n",
       "\n",
       "    .dataframe thead th {\n",
       "        text-align: right;\n",
       "    }\n",
       "</style>\n",
       "<table border=\"1\" class=\"dataframe\">\n",
       "  <thead>\n",
       "    <tr style=\"text-align: right;\">\n",
       "      <th></th>\n",
       "      <th>ID</th>\n",
       "      <th>y</th>\n",
       "    </tr>\n",
       "  </thead>\n",
       "  <tbody>\n",
       "    <tr>\n",
       "      <th>0</th>\n",
       "      <td>1</td>\n",
       "      <td>81.767014</td>\n",
       "    </tr>\n",
       "    <tr>\n",
       "      <th>1</th>\n",
       "      <td>2</td>\n",
       "      <td>93.422653</td>\n",
       "    </tr>\n",
       "    <tr>\n",
       "      <th>2</th>\n",
       "      <td>3</td>\n",
       "      <td>81.920860</td>\n",
       "    </tr>\n",
       "    <tr>\n",
       "      <th>3</th>\n",
       "      <td>4</td>\n",
       "      <td>79.080467</td>\n",
       "    </tr>\n",
       "    <tr>\n",
       "      <th>4</th>\n",
       "      <td>5</td>\n",
       "      <td>101.407112</td>\n",
       "    </tr>\n",
       "  </tbody>\n",
       "</table>\n",
       "</div>"
      ],
      "text/plain": [
       "   ID           y\n",
       "0   1   81.767014\n",
       "1   2   93.422653\n",
       "2   3   81.920860\n",
       "3   4   79.080467\n",
       "4   5  101.407112"
      ]
     },
     "execution_count": 14,
     "metadata": {},
     "output_type": "execute_result"
    }
   ],
   "source": [
    "submission = test[['ID', 'y']]\n",
    "submission.head()"
   ]
  }
 ],
 "metadata": {
  "kernelspec": {
   "display_name": "Python 3.7.10 ('myenv')",
   "language": "python",
   "name": "python3"
  },
  "language_info": {
   "codemirror_mode": {
    "name": "ipython",
    "version": 3
   },
   "file_extension": ".py",
   "mimetype": "text/x-python",
   "name": "python",
   "nbconvert_exporter": "python",
   "pygments_lexer": "ipython3",
   "version": "3.7.10"
  },
  "papermill": {
   "default_parameters": {},
   "duration": 46.681695,
   "end_time": "2021-10-30T05:55:12.177555",
   "environment_variables": {},
   "exception": null,
   "input_path": "__notebook__.ipynb",
   "output_path": "__notebook__.ipynb",
   "parameters": {},
   "start_time": "2021-10-30T05:54:25.495860",
   "version": "2.3.3"
  },
  "vscode": {
   "interpreter": {
    "hash": "932160c02e1f4b8b61c78c31812db6ebb1d40b6dd5d7aef72d652e4ec0208d68"
   }
  }
 },
 "nbformat": 4,
 "nbformat_minor": 5
}
